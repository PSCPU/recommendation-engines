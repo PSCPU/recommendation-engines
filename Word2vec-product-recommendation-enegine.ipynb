{
  "cells": [
    {
      "cell_type": "markdown",
      "metadata": {
        "id": "view-in-github",
        "colab_type": "text"
      },
      "source": [
        "<a href=\"https://colab.research.google.com/github/PSCPU/recommendation-engines/blob/main/Word2vec-product-recommendation-enegine.ipynb\" target=\"_parent\"><img src=\"https://colab.research.google.com/assets/colab-badge.svg\" alt=\"Open In Colab\"/></a>"
      ]
    },
    {
      "cell_type": "markdown",
      "source": [
        "Step 1: Import the necessary modules"
      ],
      "metadata": {
        "id": "Fpm47SmwKWsv"
      },
      "id": "Fpm47SmwKWsv"
    },
    {
      "cell_type": "code",
      "execution_count": 1,
      "id": "1c6fc590",
      "metadata": {
        "id": "1c6fc590"
      },
      "outputs": [],
      "source": [
        "import pandas as pd\n",
        "import numpy as np\n",
        "import random\n",
        "from tqdm import tqdm\n",
        "from gensim.models import Word2Vec \n",
        "import matplotlib.pyplot as plt\n",
        "#%matplotlib inline"
      ]
    },
    {
      "cell_type": "code",
      "execution_count": 2,
      "id": "1d7355c2",
      "metadata": {
        "colab": {
          "base_uri": "https://localhost:8080/"
        },
        "id": "1d7355c2",
        "outputId": "b87d8a54-fe5c-4833-ae13-a6378dd297bb"
      },
      "outputs": [
        {
          "output_type": "stream",
          "name": "stdout",
          "text": [
            "Looking in indexes: https://pypi.org/simple, https://us-python.pkg.dev/colab-wheels/public/simple/\n",
            "Collecting umap-learn\n",
            "  Downloading umap-learn-0.5.3.tar.gz (88 kB)\n",
            "\u001b[2K     \u001b[90m━━━━━━━━━━━━━━━━━━━━━━━━━━━━━━━━━━━━━━━━\u001b[0m \u001b[32m88.2/88.2 KB\u001b[0m \u001b[31m5.1 MB/s\u001b[0m eta \u001b[36m0:00:00\u001b[0m\n",
            "\u001b[?25h  Preparing metadata (setup.py) ... \u001b[?25l\u001b[?25hdone\n",
            "Requirement already satisfied: numpy>=1.17 in /usr/local/lib/python3.9/dist-packages (from umap-learn) (1.22.4)\n",
            "Requirement already satisfied: scikit-learn>=0.22 in /usr/local/lib/python3.9/dist-packages (from umap-learn) (1.2.2)\n",
            "Requirement already satisfied: scipy>=1.0 in /usr/local/lib/python3.9/dist-packages (from umap-learn) (1.10.1)\n",
            "Requirement already satisfied: numba>=0.49 in /usr/local/lib/python3.9/dist-packages (from umap-learn) (0.56.4)\n",
            "Collecting pynndescent>=0.5\n",
            "  Downloading pynndescent-0.5.8.tar.gz (1.1 MB)\n",
            "\u001b[2K     \u001b[90m━━━━━━━━━━━━━━━━━━━━━━━━━━━━━━━━━━━━━━━━\u001b[0m \u001b[32m1.1/1.1 MB\u001b[0m \u001b[31m37.8 MB/s\u001b[0m eta \u001b[36m0:00:00\u001b[0m\n",
            "\u001b[?25h  Preparing metadata (setup.py) ... \u001b[?25l\u001b[?25hdone\n",
            "Requirement already satisfied: tqdm in /usr/local/lib/python3.9/dist-packages (from umap-learn) (4.65.0)\n",
            "Requirement already satisfied: setuptools in /usr/local/lib/python3.9/dist-packages (from numba>=0.49->umap-learn) (67.6.0)\n",
            "Requirement already satisfied: llvmlite<0.40,>=0.39.0dev0 in /usr/local/lib/python3.9/dist-packages (from numba>=0.49->umap-learn) (0.39.1)\n",
            "Requirement already satisfied: joblib>=0.11 in /usr/local/lib/python3.9/dist-packages (from pynndescent>=0.5->umap-learn) (1.1.1)\n",
            "Requirement already satisfied: threadpoolctl>=2.0.0 in /usr/local/lib/python3.9/dist-packages (from scikit-learn>=0.22->umap-learn) (3.1.0)\n",
            "Building wheels for collected packages: umap-learn, pynndescent\n",
            "  Building wheel for umap-learn (setup.py) ... \u001b[?25l\u001b[?25hdone\n",
            "  Created wheel for umap-learn: filename=umap_learn-0.5.3-py3-none-any.whl size=82830 sha256=b63749478340a91ebc0de8b0b82e0ec02586cd09a20ad40f0dede916854611d9\n",
            "  Stored in directory: /root/.cache/pip/wheels/f4/3e/1c/596d0a463d17475af648688443fa4846fef624d1390339e7e9\n",
            "  Building wheel for pynndescent (setup.py) ... \u001b[?25l\u001b[?25hdone\n",
            "  Created wheel for pynndescent: filename=pynndescent-0.5.8-py3-none-any.whl size=55509 sha256=2f3e898a64f6ed3ee2b01e5a21a8cd03c2a61d1b37c1fdcb6e37261371223970\n",
            "  Stored in directory: /root/.cache/pip/wheels/b9/89/cc/59ab91ef5b21dc2ab3635528d7d227f49dfc9169905dcb959d\n",
            "Successfully built umap-learn pynndescent\n",
            "Installing collected packages: pynndescent, umap-learn\n",
            "Successfully installed pynndescent-0.5.8 umap-learn-0.5.3\n"
          ]
        }
      ],
      "source": [
        "!pip install umap-learn --upgrade"
      ]
    },
    {
      "cell_type": "markdown",
      "source": [
        "Step 2: Read the dataframe and process it."
      ],
      "metadata": {
        "id": "XAhXIpvnKhjN"
      },
      "id": "XAhXIpvnKhjN"
    },
    {
      "cell_type": "code",
      "execution_count": 5,
      "id": "d9509b25",
      "metadata": {
        "colab": {
          "base_uri": "https://localhost:8080/"
        },
        "id": "d9509b25",
        "outputId": "9a739f4a-c236-466d-f1b8-07cc9faa93bc"
      },
      "outputs": [
        {
          "output_type": "stream",
          "name": "stdout",
          "text": [
            "  InvoiceNo StockCode                          Description  Quantity  \\\n",
            "0    536365    85123A   WHITE HANGING HEART T-LIGHT HOLDER         6   \n",
            "1    536365     71053                  WHITE METAL LANTERN         6   \n",
            "2    536365    84406B       CREAM CUPID HEARTS COAT HANGER         8   \n",
            "3    536365    84029G  KNITTED UNION FLAG HOT WATER BOTTLE         6   \n",
            "4    536365    84029E       RED WOOLLY HOTTIE WHITE HEART.         6   \n",
            "\n",
            "          InvoiceDate  UnitPrice  CustomerID         Country  \n",
            "0 2010-12-01 08:26:00       2.55     17850.0  United Kingdom  \n",
            "1 2010-12-01 08:26:00       3.39     17850.0  United Kingdom  \n",
            "2 2010-12-01 08:26:00       2.75     17850.0  United Kingdom  \n",
            "3 2010-12-01 08:26:00       3.39     17850.0  United Kingdom  \n",
            "4 2010-12-01 08:26:00       3.39     17850.0  United Kingdom  \n"
          ]
        }
      ],
      "source": [
        "import warnings;\n",
        "warnings.filterwarnings('ignore')\n",
        "\n",
        "\n",
        "df = pd.read_excel('Online Retail.xlsx')\n",
        "print(df.head())"
      ]
    },
    {
      "cell_type": "code",
      "execution_count": 6,
      "id": "9cfa2023",
      "metadata": {
        "colab": {
          "base_uri": "https://localhost:8080/"
        },
        "id": "9cfa2023",
        "outputId": "850a1715-b54b-4438-b020-c3aacbad4089"
      },
      "outputs": [
        {
          "output_type": "execute_result",
          "data": {
            "text/plain": [
              "(541909, 8)"
            ]
          },
          "metadata": {},
          "execution_count": 6
        }
      ],
      "source": [
        "#Count the number of rows and columns that span the data\n",
        "df.shape"
      ]
    },
    {
      "cell_type": "code",
      "execution_count": 8,
      "id": "6ee6ba0a",
      "metadata": {
        "colab": {
          "base_uri": "https://localhost:8080/"
        },
        "id": "6ee6ba0a",
        "outputId": "81ae5930-30ce-4cd3-95ac-3819e0fabc2a"
      },
      "outputs": [
        {
          "output_type": "execute_result",
          "data": {
            "text/plain": [
              "InvoiceNo      0\n",
              "StockCode      0\n",
              "Description    0\n",
              "Quantity       0\n",
              "InvoiceDate    0\n",
              "UnitPrice      0\n",
              "CustomerID     0\n",
              "Country        0\n",
              "dtype: int64"
            ]
          },
          "metadata": {},
          "execution_count": 8
        }
      ],
      "source": [
        "#Identify the attributes with missing values\n",
        "df.isnull().sum()"
      ]
    },
    {
      "cell_type": "code",
      "execution_count": 7,
      "id": "2380017a",
      "metadata": {
        "id": "2380017a"
      },
      "outputs": [],
      "source": [
        "# remove missing values\n",
        "df.dropna(inplace=True)"
      ]
    },
    {
      "cell_type": "code",
      "execution_count": 9,
      "id": "f3daa4fc",
      "metadata": {
        "id": "f3daa4fc"
      },
      "outputs": [],
      "source": [
        "# Convert the StockCode to string datatype\n",
        "df['StockCode']=df['StockCode'].astype(str)"
      ]
    },
    {
      "cell_type": "code",
      "execution_count": 10,
      "id": "bf7dbb67",
      "metadata": {
        "colab": {
          "base_uri": "https://localhost:8080/"
        },
        "id": "bf7dbb67",
        "outputId": "eb85705e-edac-4798-bc49-8d6bb2037af0"
      },
      "outputs": [
        {
          "output_type": "execute_result",
          "data": {
            "text/plain": [
              "4372"
            ]
          },
          "metadata": {},
          "execution_count": 10
        }
      ],
      "source": [
        "#Check out the number of unique customers in the dataset:\n",
        "customers=df['CustomerID'].unique().tolist()\n",
        "len(customers)"
      ]
    },
    {
      "cell_type": "code",
      "execution_count": 11,
      "id": "98452ed1",
      "metadata": {
        "colab": {
          "base_uri": "https://localhost:8080/"
        },
        "id": "98452ed1",
        "outputId": "4e7b01d3-2e94-49ad-9ca6-24dd9a1a7fda"
      },
      "outputs": [
        {
          "output_type": "stream",
          "name": "stdout",
          "text": [
            "       InvoiceNo StockCode                          Description  Quantity  \\\n",
            "0         536365    85123A   WHITE HANGING HEART T-LIGHT HOLDER         6   \n",
            "1         536365     71053                  WHITE METAL LANTERN         6   \n",
            "2         536365    84406B       CREAM CUPID HEARTS COAT HANGER         8   \n",
            "3         536365    84029G  KNITTED UNION FLAG HOT WATER BOTTLE         6   \n",
            "4         536365    84029E       RED WOOLLY HOTTIE WHITE HEART.         6   \n",
            "...          ...       ...                                  ...       ...   \n",
            "541889    581585     22466       FAIRY TALE COTTAGE NIGHT LIGHT        12   \n",
            "541890    581586     22061  LARGE CAKE STAND  HANGING STRAWBERY         8   \n",
            "541891    581586     23275     SET OF 3 HANGING OWLS OLLIE BEAK        24   \n",
            "541892    581586     21217        RED RETROSPOT ROUND CAKE TINS        24   \n",
            "541893    581586     20685                DOORMAT RED RETROSPOT        10   \n",
            "\n",
            "               InvoiceDate  UnitPrice  CustomerID         Country  \n",
            "0      2010-12-01 08:26:00       2.55     17850.0  United Kingdom  \n",
            "1      2010-12-01 08:26:00       3.39     17850.0  United Kingdom  \n",
            "2      2010-12-01 08:26:00       2.75     17850.0  United Kingdom  \n",
            "3      2010-12-01 08:26:00       3.39     17850.0  United Kingdom  \n",
            "4      2010-12-01 08:26:00       3.39     17850.0  United Kingdom  \n",
            "...                    ...        ...         ...             ...  \n",
            "541889 2011-12-09 12:31:00       1.95     15804.0  United Kingdom  \n",
            "541890 2011-12-09 12:49:00       2.95     13113.0  United Kingdom  \n",
            "541891 2011-12-09 12:49:00       1.25     13113.0  United Kingdom  \n",
            "541892 2011-12-09 12:49:00       8.95     13113.0  United Kingdom  \n",
            "541893 2011-12-09 12:49:00       7.08     13113.0  United Kingdom  \n",
            "\n",
            "[369211 rows x 8 columns]\n",
            "       InvoiceNo StockCode                      Description  Quantity  \\\n",
            "26        536370     22728        ALARM CLOCK BAKELIKE PINK        24   \n",
            "27        536370     22727        ALARM CLOCK BAKELIKE RED         24   \n",
            "28        536370     22726       ALARM CLOCK BAKELIKE GREEN        12   \n",
            "29        536370     21724  PANDA AND BUNNIES STICKER SHEET        12   \n",
            "30        536370     21883                 STARS GIFT TAPE         24   \n",
            "...          ...       ...                              ...       ...   \n",
            "541904    581587     22613      PACK OF 20 SPACEBOY NAPKINS        12   \n",
            "541905    581587     22899     CHILDREN'S APRON DOLLY GIRL          6   \n",
            "541906    581587     23254    CHILDRENS CUTLERY DOLLY GIRL          4   \n",
            "541907    581587     23255  CHILDRENS CUTLERY CIRCUS PARADE         4   \n",
            "541908    581587     22138    BAKING SET 9 PIECE RETROSPOT          3   \n",
            "\n",
            "               InvoiceDate  UnitPrice  CustomerID Country  \n",
            "26     2010-12-01 08:45:00       3.75     12583.0  France  \n",
            "27     2010-12-01 08:45:00       3.75     12583.0  France  \n",
            "28     2010-12-01 08:45:00       3.75     12583.0  France  \n",
            "29     2010-12-01 08:45:00       0.85     12583.0  France  \n",
            "30     2010-12-01 08:45:00       0.65     12583.0  France  \n",
            "...                    ...        ...         ...     ...  \n",
            "541904 2011-12-09 12:50:00       0.85     12680.0  France  \n",
            "541905 2011-12-09 12:50:00       2.10     12680.0  France  \n",
            "541906 2011-12-09 12:50:00       4.15     12680.0  France  \n",
            "541907 2011-12-09 12:50:00       4.15     12680.0  France  \n",
            "541908 2011-12-09 12:50:00       4.95     12680.0  France  \n",
            "\n",
            "[37618 rows x 8 columns]\n"
          ]
        }
      ],
      "source": [
        "#Split the data into training and validation sets, and use the data of 90% of the customers to create word2vec embeddings (training)\n",
        "# shuffle customer ID's\n",
        "random.shuffle(customers)\n",
        "\n",
        "# extract 90% of customer ID's\n",
        "customers_train=[]\n",
        "for i in range(round(0.9*len(customers))):\n",
        "               customers_train.append(customers[i])\n",
        "# split data into train and validation set\n",
        "train_df = df[df['CustomerID'].isin(customers_train)]\n",
        "print(train_df)\n",
        "validation_df = df[~df['CustomerID'].isin(customers_train)]\n",
        "print(validation_df) "
      ]
    },
    {
      "cell_type": "code",
      "execution_count": 12,
      "id": "3446ce6b",
      "metadata": {
        "colab": {
          "base_uri": "https://localhost:8080/"
        },
        "id": "3446ce6b",
        "outputId": "bc3aaecd-a06a-41ab-90f2-abc9c3a2a7dd"
      },
      "outputs": [
        {
          "output_type": "stream",
          "name": "stderr",
          "text": [
            "100%|██████████| 3935/3935 [00:03<00:00, 1293.08it/s]\n"
          ]
        }
      ],
      "source": [
        "#create sequences of purchases made by the customers in the dataset for the training set. \n",
        "#This is an important step where the data format actually required for the word2vec model will be generated.\n",
        "\n",
        "# initiate a list to capture purchase history of the customers\n",
        "purchases_train = []\n",
        "# populate the list with the product codes\n",
        "for i in tqdm(customers_train):\n",
        "    temp = train_df[train_df[\"CustomerID\"] == i][\"StockCode\"].tolist()\n",
        "    purchases_train.append(temp)"
      ]
    },
    {
      "cell_type": "code",
      "execution_count": 13,
      "id": "2c7b0144",
      "metadata": {
        "colab": {
          "base_uri": "https://localhost:8080/"
        },
        "id": "2c7b0144",
        "outputId": "e7bffb56-a757-43b2-8a13-a6df9a45a5a2"
      },
      "outputs": [
        {
          "output_type": "stream",
          "name": "stderr",
          "text": [
            "100%|██████████| 437/437 [00:00<00:00, 1870.05it/s]\n"
          ]
        }
      ],
      "source": [
        "#create sequences of purchases made by the customers in the dataset for the validation set.\n",
        "\n",
        "# initiate a list to capture purchase history of the customers\n",
        "purchases_val=[]\n",
        "#populae the list with product codes\n",
        "for i in tqdm(validation_df['CustomerID'].unique()):\n",
        "    temp = validation_df[validation_df[\"CustomerID\"] == i][\"StockCode\"].tolist()\n",
        "    purchases_val.append(temp)"
      ]
    },
    {
      "cell_type": "code",
      "execution_count": 14,
      "id": "0fe65271",
      "metadata": {
        "colab": {
          "base_uri": "https://localhost:8080/"
        },
        "id": "0fe65271",
        "outputId": "994c8e2d-fcb3-4b5d-b797-ffe5888473d1"
      },
      "outputs": [
        {
          "output_type": "execute_result",
          "data": {
            "text/plain": [
              "(3655266, 3692110)"
            ]
          },
          "metadata": {},
          "execution_count": 14
        }
      ],
      "source": [
        "#Build word2vec Embeddings for Products\n",
        "# train word2vec model\n",
        "\n",
        "model = Word2Vec(window = 10, sg = 1, hs = 0,\n",
        "                 negative = 10, # for negative sampling\n",
        "                 alpha=0.03, min_alpha=0.0007,\n",
        "                 seed = 14)\n",
        "\n",
        "model.build_vocab(purchases_train, progress_per=200)\n",
        "\n",
        "model.train(purchases_train, total_examples = model.corpus_count, \n",
        "            epochs=10, report_delay=1)"
      ]
    },
    {
      "cell_type": "code",
      "execution_count": 15,
      "id": "7dc1e85f",
      "metadata": {
        "colab": {
          "base_uri": "https://localhost:8080/"
        },
        "id": "7dc1e85f",
        "outputId": "5d23f1f5-10ed-4ee2-b908-310cd32ced78"
      },
      "outputs": [
        {
          "output_type": "stream",
          "name": "stderr",
          "text": [
            "WARNING:gensim.models.keyedvectors:destructive init_sims(replace=True) deprecated & no longer required for space-efficiency\n"
          ]
        }
      ],
      "source": [
        "model.init_sims(replace=True)"
      ]
    },
    {
      "cell_type": "code",
      "execution_count": 16,
      "id": "cd4cd843",
      "metadata": {
        "colab": {
          "base_uri": "https://localhost:8080/"
        },
        "id": "cd4cd843",
        "outputId": "65b5fe36-e86f-4363-d0c4-c57d198be8c9"
      },
      "outputs": [
        {
          "output_type": "stream",
          "name": "stdout",
          "text": [
            "Word2Vec<vocab=3173, vector_size=100, alpha=0.03>\n"
          ]
        }
      ],
      "source": [
        "print(model)"
      ]
    },
    {
      "cell_type": "code",
      "execution_count": 17,
      "id": "bc9a27df",
      "metadata": {
        "colab": {
          "base_uri": "https://localhost:8080/"
        },
        "id": "bc9a27df",
        "outputId": "32febf9f-e871-41b3-e8a1-de61e6e07954"
      },
      "outputs": [
        {
          "output_type": "execute_result",
          "data": {
            "text/plain": [
              "(3173, 100)"
            ]
          },
          "metadata": {},
          "execution_count": 17
        }
      ],
      "source": [
        "# extract all vectors\n",
        "word_vectors = model.wv\n",
        "X = word_vectors[word_vectors.index_to_key]\n",
        "X.shape"
      ]
    },
    {
      "cell_type": "code",
      "execution_count": 18,
      "id": "a0381af5",
      "metadata": {
        "colab": {
          "base_uri": "https://localhost:8080/",
          "height": 554
        },
        "id": "a0381af5",
        "outputId": "6b72b1a9-f228-4184-8982-87ea15ab37f7"
      },
      "outputs": [
        {
          "output_type": "execute_result",
          "data": {
            "text/plain": [
              "<matplotlib.collections.PathCollection at 0x7f3f289218e0>"
            ]
          },
          "metadata": {},
          "execution_count": 18
        },
        {
          "output_type": "display_data",
          "data": {
            "text/plain": [
              "<Figure size 720x648 with 1 Axes>"
            ],
            "image/png": "[encoded data removed]"
          },
          "metadata": {
            "needs_background": "light"
          }
        }
      ],
      "source": [
        "#Visualize word2vec Embeddings after dimensionality reduction using Umap\n",
        "\n",
        "import umap.umap_ as umap\n",
        "\n",
        "cluster_embedding = umap.UMAP(n_neighbors=30, min_dist=0.0,\n",
        "                              n_components=2, random_state=42).fit_transform(X)\n",
        "\n",
        "plt.figure(figsize=(10,9))\n",
        "plt.scatter(cluster_embedding[:, 0], cluster_embedding[:, 1], s=3, cmap='Spectral')"
      ]
    },
    {
      "cell_type": "code",
      "execution_count": 19,
      "id": "678651e3",
      "metadata": {
        "id": "678651e3"
      },
      "outputs": [],
      "source": [
        "#create a product-ID and product-description dictionary to easily map a product’s description to its ID and vice versa.\n",
        "products = train_df[[\"StockCode\", \"Description\"]]\n",
        "\n",
        "# remove duplicates\n",
        "products.drop_duplicates(inplace=True, subset='StockCode', keep=\"last\")\n",
        "\n",
        "# create product-ID and product-description dictionary\n",
        "products_dict = products.groupby('StockCode')['Description'].apply(list).to_dict()"
      ]
    },
    {
      "cell_type": "code",
      "source": [
        "#Checking the dictionary\n",
        "products_dict['84029E']"
      ],
      "metadata": {
        "colab": {
          "base_uri": "https://localhost:8080/"
        },
        "id": "GSkUJvjt-owW",
        "outputId": "93e94cfc-46c3-4564-91fd-3d860b9f6b47"
      },
      "id": "GSkUJvjt-owW",
      "execution_count": 21,
      "outputs": [
        {
          "output_type": "execute_result",
          "data": {
            "text/plain": [
              "['RED WOOLLY HOTTIE WHITE HEART.']"
            ]
          },
          "metadata": {},
          "execution_count": 21
        }
      ]
    },
    {
      "cell_type": "code",
      "source": [
        "#The following function will take a product’s vector (n) and gives top 6 similar products:\n",
        "def similar_products(v, n = 6):\n",
        "    \n",
        "    # extract most similar products for the input vector\n",
        "    ms = model.wv.similar_by_vector(v, topn= n+1)[1:]\n",
        "    \n",
        "    # extract name and similarity score of the similar products\n",
        "    new_ms = []\n",
        "    for j in ms:\n",
        "        pair = (products_dict[j[0]][0], j[1])\n",
        "        new_ms.append(pair)\n",
        "    for k in new_ms:\n",
        "        print(k)        "
      ],
      "metadata": {
        "id": "MbeFmFX--zf6"
      },
      "id": "MbeFmFX--zf6",
      "execution_count": 22,
      "outputs": []
    },
    {
      "cell_type": "code",
      "source": [
        "#Trying the function:\n",
        "similar_products(model.wv['90019A'])"
      ],
      "metadata": {
        "colab": {
          "base_uri": "https://localhost:8080/"
        },
        "id": "iPpccsKM_i8f",
        "outputId": "8c434a14-25ad-4e55-ef94-92d7b18816a9"
      },
      "id": "iPpccsKM_i8f",
      "execution_count": 23,
      "outputs": [
        {
          "output_type": "stream",
          "name": "stdout",
          "text": [
            "('SILVER M.O.P ORBIT DROP EARRINGS', 0.7851990461349487)\n",
            "('BLUE MURANO TWIST BRACELET', 0.7773179411888123)\n",
            "('GOLD/M.O.P PENDANT ORBIT NECKLACE', 0.7669634819030762)\n",
            "('PINK BOUDICCA LARGE BRACELET', 0.7619589567184448)\n",
            "('PINK HEART OF GLASS BRACELET', 0.7510994076728821)\n",
            "('JADE DROP EARRINGS W FILIGREE', 0.7509053349494934)\n"
          ]
        }
      ]
    },
    {
      "cell_type": "code",
      "source": [
        "#Recommend user products based on the multiple purchases a customer has made in the past\n",
        "#Take the average of all the vectors of the products the user has bought so far and use this resultant vector to find similar products. \n",
        "#The function below that takes in a list of product IDs and gives out a 100-dimensional vector which is a mean of vectors of the products in the input list:\n",
        "def aggregate_vectors(products):\n",
        "    product_vec = []\n",
        "    for i in products:\n",
        "        try:\n",
        "            product_vec.append(model.wv[i])\n",
        "        except KeyError:\n",
        "            continue\n",
        "        \n",
        "    return np.mean(product_vec, axis=0)"
      ],
      "metadata": {
        "id": "svIi3aEA_lc5"
      },
      "id": "svIi3aEA_lc5",
      "execution_count": 24,
      "outputs": []
    },
    {
      "cell_type": "code",
      "source": [
        "#Starting predictions on the validation set now\n",
        "len(purchases_val[0])"
      ],
      "metadata": {
        "colab": {
          "base_uri": "https://localhost:8080/"
        },
        "id": "R-U4qucaHcIZ",
        "outputId": "d1de31fe-dbf0-4f74-e24b-0ce5a90f2d8b"
      },
      "id": "R-U4qucaHcIZ",
      "execution_count": 25,
      "outputs": [
        {
          "output_type": "execute_result",
          "data": {
            "text/plain": [
              "251"
            ]
          },
          "metadata": {},
          "execution_count": 25
        }
      ]
    },
    {
      "cell_type": "code",
      "source": [
        "aggregate_vectors(purchases_val[0]).shape"
      ],
      "metadata": {
        "colab": {
          "base_uri": "https://localhost:8080/"
        },
        "id": "w44yO994HpVS",
        "outputId": "94e8e4c9-9123-4d42-82e5-82de6c16bfcc"
      },
      "id": "w44yO994HpVS",
      "execution_count": 26,
      "outputs": [
        {
          "output_type": "execute_result",
          "data": {
            "text/plain": [
              "(100,)"
            ]
          },
          "metadata": {},
          "execution_count": 26
        }
      ]
    },
    {
      "cell_type": "code",
      "source": [
        "#Get product recommendations based on the entire purchase history of a user\n",
        "similar_products(aggregate_vectors(purchases_val[0]))"
      ],
      "metadata": {
        "colab": {
          "base_uri": "https://localhost:8080/"
        },
        "id": "Qj8OTv_QIrVh",
        "outputId": "48ecba54-bf33-47e2-eb78-a1d232f3f4ff"
      },
      "id": "Qj8OTv_QIrVh",
      "execution_count": 29,
      "outputs": [
        {
          "output_type": "stream",
          "name": "stdout",
          "text": [
            "('RED TOADSTOOL LED NIGHT LIGHT', 0.7228374481201172)\n",
            "('MINI PAINT SET VINTAGE ', 0.7076230049133301)\n",
            "('SPACEBOY LUNCH BOX ', 0.6950739622116089)\n",
            "('ROUND SNACK BOXES SET OF 4 FRUITS ', 0.6836857795715332)\n",
            "('SET/6 RED SPOTTY PAPER CUPS', 0.6821012496948242)\n",
            "('PLASTERS IN TIN SPACEBOY', 0.676406741142273)\n"
          ]
        }
      ]
    },
    {
      "cell_type": "markdown",
      "source": [],
      "metadata": {
        "id": "fRmAdu8ZKUsJ"
      },
      "id": "fRmAdu8ZKUsJ"
    },
    {
      "cell_type": "code",
      "source": [
        "#Get product suggestions based on the last 10 purchases\n",
        "similar_products(aggregate_vectors(purchases_val[0][-10:]))"
      ],
      "metadata": {
        "colab": {
          "base_uri": "https://localhost:8080/"
        },
        "id": "VqoEsZq4KGfq",
        "outputId": "569da107-4018-4a5a-c286-7cf36eed4c4e"
      },
      "id": "VqoEsZq4KGfq",
      "execution_count": 30,
      "outputs": [
        {
          "output_type": "stream",
          "name": "stdout",
          "text": [
            "('LUNCH BOX WITH CUTLERY RETROSPOT ', 0.7202620506286621)\n",
            "('ROUND SNACK BOXES SET OF 4 FRUITS ', 0.7004334926605225)\n",
            "('SPACEBOY LUNCH BOX ', 0.6960306167602539)\n",
            "('STRAWBERRY LUNCH BOX WITH CUTLERY', 0.6937820911407471)\n",
            "('POSTAGE', 0.6916598081588745)\n",
            "('CHILDRENS APRON SPACEBOY DESIGN', 0.6841225028038025)\n"
          ]
        }
      ]
    }
  ],
  "metadata": {
    "kernelspec": {
      "display_name": "Python 3",
      "language": "python",
      "name": "python3"
    },
    "language_info": {
      "codemirror_mode": {
        "name": "ipython",
        "version": 3
      },
      "file_extension": ".py",
      "mimetype": "text/x-python",
      "name": "python",
      "nbconvert_exporter": "python",
      "pygments_lexer": "ipython3",
      "version": "3.8.8"
    },
    "colab": {
      "provenance": [],
      "include_colab_link": true
    }
  },
  "nbformat": 4,
  "nbformat_minor": 5
}