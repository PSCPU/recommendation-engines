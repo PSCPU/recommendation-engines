{
 "cells": [
  {
   "cell_type": "code",
   "execution_count": 3,
   "metadata": {
    "ExecuteTime": {
     "end_time": "2020-04-30T11:40:10.388626Z",
     "start_time": "2020-04-30T11:40:09.944952Z"
    }
   },
   "outputs": [
    {
     "name": "stdout",
     "output_type": "stream",
     "text": [
      "Collecting apyori\n",
      "  Downloading apyori-1.1.2.tar.gz (8.6 kB)\n",
      "Building wheels for collected packages: apyori\n",
      "  Building wheel for apyori (setup.py): started\n",
      "  Building wheel for apyori (setup.py): finished with status 'done'\n",
      "  Created wheel for apyori: filename=apyori-1.1.2-py3-none-any.whl size=5975 sha256=43998f9fb44b444d4bdc5c832c3d962b4fe9440efbeae73bf4317b9da92919ca\n",
      "  Stored in directory: c:\\users\\dps\\appdata\\local\\pip\\cache\\wheels\\1b\\02\\6c\\a45230be8603bd95c0a51cd2b289aefdd860c1a100eab73661\n",
      "Successfully built apyori\n",
      "Installing collected packages: apyori\n",
      "Successfully installed apyori-1.1.2\n"
     ]
    }
   ],
   "source": [
    "# import pandas\n",
    "import pandas as pd  \n",
    "!pip install apyori\n",
    "# from apyori import apriori\n",
    "from apyori import apriori"
   ]
  },
  {
   "cell_type": "code",
   "execution_count": 4,
   "metadata": {
    "ExecuteTime": {
     "end_time": "2020-04-30T11:40:11.501307Z",
     "start_time": "2020-04-30T11:40:10.963718Z"
    }
   },
   "outputs": [],
   "source": [
    "# load data \n",
    "movie_data = pd.read_csv('https://raw.githubusercontent.com/pirandello/apriori/master/movie_dataset.csv', \n",
    "                         header = None)"
   ]
  },
  {
   "cell_type": "markdown",
   "metadata": {},
   "source": [
    "* explore the dataset"
   ]
  },
  {
   "cell_type": "code",
   "execution_count": 10,
   "metadata": {},
   "outputs": [
    {
     "data": {
      "text/html": [
       "<div>\n",
       "<style scoped>\n",
       "    .dataframe tbody tr th:only-of-type {\n",
       "        vertical-align: middle;\n",
       "    }\n",
       "\n",
       "    .dataframe tbody tr th {\n",
       "        vertical-align: top;\n",
       "    }\n",
       "\n",
       "    .dataframe thead th {\n",
       "        text-align: right;\n",
       "    }\n",
       "</style>\n",
       "<table border=\"1\" class=\"dataframe\">\n",
       "  <thead>\n",
       "    <tr style=\"text-align: right;\">\n",
       "      <th></th>\n",
       "      <th>0</th>\n",
       "      <th>1</th>\n",
       "      <th>2</th>\n",
       "      <th>3</th>\n",
       "      <th>4</th>\n",
       "      <th>5</th>\n",
       "      <th>6</th>\n",
       "      <th>7</th>\n",
       "      <th>8</th>\n",
       "      <th>9</th>\n",
       "      <th>10</th>\n",
       "      <th>11</th>\n",
       "      <th>12</th>\n",
       "      <th>13</th>\n",
       "      <th>14</th>\n",
       "      <th>15</th>\n",
       "      <th>16</th>\n",
       "      <th>17</th>\n",
       "      <th>18</th>\n",
       "      <th>19</th>\n",
       "    </tr>\n",
       "  </thead>\n",
       "  <tbody>\n",
       "    <tr>\n",
       "      <th>0</th>\n",
       "      <td>The Revenant</td>\n",
       "      <td>13 Hours</td>\n",
       "      <td>Allied</td>\n",
       "      <td>Zootopia</td>\n",
       "      <td>Jigsaw</td>\n",
       "      <td>Achorman</td>\n",
       "      <td>Grinch</td>\n",
       "      <td>Fast and Furious</td>\n",
       "      <td>Ghostbusters</td>\n",
       "      <td>Wolverine</td>\n",
       "      <td>Mad Max</td>\n",
       "      <td>John Wick</td>\n",
       "      <td>La La Land</td>\n",
       "      <td>The Good Dunosaur</td>\n",
       "      <td>Ninja Turtles</td>\n",
       "      <td>The Good Dunosaur Bad Moms</td>\n",
       "      <td>2 Guns</td>\n",
       "      <td>Inside Out</td>\n",
       "      <td>Valerian</td>\n",
       "      <td>Spiderman 3</td>\n",
       "    </tr>\n",
       "    <tr>\n",
       "      <th>1</th>\n",
       "      <td>Beirut</td>\n",
       "      <td>Martian</td>\n",
       "      <td>Get Out</td>\n",
       "      <td>NaN</td>\n",
       "      <td>NaN</td>\n",
       "      <td>NaN</td>\n",
       "      <td>NaN</td>\n",
       "      <td>NaN</td>\n",
       "      <td>NaN</td>\n",
       "      <td>NaN</td>\n",
       "      <td>NaN</td>\n",
       "      <td>NaN</td>\n",
       "      <td>NaN</td>\n",
       "      <td>NaN</td>\n",
       "      <td>NaN</td>\n",
       "      <td>NaN</td>\n",
       "      <td>NaN</td>\n",
       "      <td>NaN</td>\n",
       "      <td>NaN</td>\n",
       "      <td>NaN</td>\n",
       "    </tr>\n",
       "    <tr>\n",
       "      <th>2</th>\n",
       "      <td>Deadpool</td>\n",
       "      <td>NaN</td>\n",
       "      <td>NaN</td>\n",
       "      <td>NaN</td>\n",
       "      <td>NaN</td>\n",
       "      <td>NaN</td>\n",
       "      <td>NaN</td>\n",
       "      <td>NaN</td>\n",
       "      <td>NaN</td>\n",
       "      <td>NaN</td>\n",
       "      <td>NaN</td>\n",
       "      <td>NaN</td>\n",
       "      <td>NaN</td>\n",
       "      <td>NaN</td>\n",
       "      <td>NaN</td>\n",
       "      <td>NaN</td>\n",
       "      <td>NaN</td>\n",
       "      <td>NaN</td>\n",
       "      <td>NaN</td>\n",
       "      <td>NaN</td>\n",
       "    </tr>\n",
       "    <tr>\n",
       "      <th>3</th>\n",
       "      <td>X-Men</td>\n",
       "      <td>Allied</td>\n",
       "      <td>NaN</td>\n",
       "      <td>NaN</td>\n",
       "      <td>NaN</td>\n",
       "      <td>NaN</td>\n",
       "      <td>NaN</td>\n",
       "      <td>NaN</td>\n",
       "      <td>NaN</td>\n",
       "      <td>NaN</td>\n",
       "      <td>NaN</td>\n",
       "      <td>NaN</td>\n",
       "      <td>NaN</td>\n",
       "      <td>NaN</td>\n",
       "      <td>NaN</td>\n",
       "      <td>NaN</td>\n",
       "      <td>NaN</td>\n",
       "      <td>NaN</td>\n",
       "      <td>NaN</td>\n",
       "      <td>NaN</td>\n",
       "    </tr>\n",
       "    <tr>\n",
       "      <th>4</th>\n",
       "      <td>Ninja Turtles</td>\n",
       "      <td>Moana</td>\n",
       "      <td>Ghost in the Shell</td>\n",
       "      <td>Ralph Breaks the Internet</td>\n",
       "      <td>John Wick</td>\n",
       "      <td>NaN</td>\n",
       "      <td>NaN</td>\n",
       "      <td>NaN</td>\n",
       "      <td>NaN</td>\n",
       "      <td>NaN</td>\n",
       "      <td>NaN</td>\n",
       "      <td>NaN</td>\n",
       "      <td>NaN</td>\n",
       "      <td>NaN</td>\n",
       "      <td>NaN</td>\n",
       "      <td>NaN</td>\n",
       "      <td>NaN</td>\n",
       "      <td>NaN</td>\n",
       "      <td>NaN</td>\n",
       "      <td>NaN</td>\n",
       "    </tr>\n",
       "  </tbody>\n",
       "</table>\n",
       "</div>"
      ],
      "text/plain": [
       "              0         1                   2                          3   \\\n",
       "0   The Revenant  13 Hours              Allied                   Zootopia   \n",
       "1         Beirut   Martian             Get Out                        NaN   \n",
       "2       Deadpool       NaN                 NaN                        NaN   \n",
       "3          X-Men    Allied                 NaN                        NaN   \n",
       "4  Ninja Turtles     Moana  Ghost in the Shell  Ralph Breaks the Internet   \n",
       "\n",
       "          4         5       6                 7             8          9   \\\n",
       "0     Jigsaw  Achorman  Grinch  Fast and Furious  Ghostbusters  Wolverine   \n",
       "1        NaN       NaN     NaN               NaN           NaN        NaN   \n",
       "2        NaN       NaN     NaN               NaN           NaN        NaN   \n",
       "3        NaN       NaN     NaN               NaN           NaN        NaN   \n",
       "4  John Wick       NaN     NaN               NaN           NaN        NaN   \n",
       "\n",
       "        10         11          12                 13             14  \\\n",
       "0  Mad Max  John Wick  La La Land  The Good Dunosaur  Ninja Turtles   \n",
       "1      NaN        NaN         NaN                NaN            NaN   \n",
       "2      NaN        NaN         NaN                NaN            NaN   \n",
       "3      NaN        NaN         NaN                NaN            NaN   \n",
       "4      NaN        NaN         NaN                NaN            NaN   \n",
       "\n",
       "                           15      16          17        18           19  \n",
       "0  The Good Dunosaur Bad Moms  2 Guns  Inside Out  Valerian  Spiderman 3  \n",
       "1                         NaN     NaN         NaN       NaN          NaN  \n",
       "2                         NaN     NaN         NaN       NaN          NaN  \n",
       "3                         NaN     NaN         NaN       NaN          NaN  \n",
       "4                         NaN     NaN         NaN       NaN          NaN  "
      ]
     },
     "execution_count": 10,
     "metadata": {},
     "output_type": "execute_result"
    }
   ],
   "source": [
    "movie_data.head()"
   ]
  },
  {
   "cell_type": "code",
   "execution_count": 14,
   "metadata": {
    "ExecuteTime": {
     "end_time": "2020-04-30T11:40:35.334675Z",
     "start_time": "2020-04-30T11:40:35.306867Z"
    }
   },
   "outputs": [
    {
     "data": {
      "text/plain": [
       "(7501, 20)"
      ]
     },
     "execution_count": 14,
     "metadata": {},
     "output_type": "execute_result"
    }
   ],
   "source": [
    "movie_data.shape"
   ]
  },
  {
   "cell_type": "markdown",
   "metadata": {},
   "source": [
    "* transform dataframe to list of lists (suitable format for apyori)"
   ]
  },
  {
   "cell_type": "code",
   "execution_count": 23,
   "metadata": {},
   "outputs": [],
   "source": [
    "listed_data = []\n",
    "for i in range(0, 7501):\n",
    "    listed_data.append([str(movie_data.values[i,j]) for j in range(0, 20)])"
   ]
  },
  {
   "cell_type": "markdown",
   "metadata": {},
   "source": [
    "* instantiate apriori and set the input params based on following constraints:\n",
    "    * we want only movies that are purchased at least 40 times\n",
    "    * the minimum confidence for the rules is 20%\n",
    "    * the minumum lift is 3"
   ]
  },
  {
   "cell_type": "code",
   "execution_count": 41,
   "metadata": {
    "ExecuteTime": {
     "end_time": "2020-04-30T11:41:35.441177Z",
     "start_time": "2020-04-30T11:41:33.734304Z"
    }
   },
   "outputs": [
    {
     "data": {
      "text/plain": [
       "[RelationRecord(items=frozenset({'Green Lantern', 'Red Sparrow'}), support=0.005732568990801226, ordered_statistics=[OrderedStatistic(items_base=frozenset({'Red Sparrow'}), items_add=frozenset({'Green Lantern'}), confidence=0.3006993006993007, lift=3.790832696715049)]),\n",
       " RelationRecord(items=frozenset({'Star Wars', 'Green Lantern'}), support=0.005865884548726837, ordered_statistics=[OrderedStatistic(items_base=frozenset({'Star Wars'}), items_add=frozenset({'Green Lantern'}), confidence=0.3728813559322034, lift=4.700811850163794)]),\n",
       " RelationRecord(items=frozenset({'Kung Fu Panda', 'Jumanji'}), support=0.015997866951073192, ordered_statistics=[OrderedStatistic(items_base=frozenset({'Kung Fu Panda'}), items_add=frozenset({'Jumanji'}), confidence=0.3234501347708895, lift=3.2919938411349285)]),\n",
       " RelationRecord(items=frozenset({'Wonder Woman', 'Jumanji'}), support=0.005332622317024397, ordered_statistics=[OrderedStatistic(items_base=frozenset({'Wonder Woman'}), items_add=frozenset({'Jumanji'}), confidence=0.3773584905660377, lift=3.840659481324083)]),\n",
       " RelationRecord(items=frozenset({'The Spy Who Dumped Me', 'Spiderman 3'}), support=0.007998933475536596, ordered_statistics=[OrderedStatistic(items_base=frozenset({'The Spy Who Dumped Me'}), items_add=frozenset({'Spiderman 3'}), confidence=0.2714932126696833, lift=4.122410097642296)]),\n",
       " RelationRecord(items=frozenset({'Star Wars', 'The Revenant'}), support=0.005065991201173177, ordered_statistics=[OrderedStatistic(items_base=frozenset({'Star Wars'}), items_add=frozenset({'The Revenant'}), confidence=0.3220338983050847, lift=4.506672147735896)]),\n",
       " RelationRecord(items=frozenset({'Coco', 'The Revenant', 'Intern'}), support=0.005332622317024397, ordered_statistics=[OrderedStatistic(items_base=frozenset({'Coco', 'Intern'}), items_add=frozenset({'The Revenant'}), confidence=0.23255813953488375, lift=3.2545123221103784), OrderedStatistic(items_base=frozenset({'Coco', 'The Revenant'}), items_add=frozenset({'Intern'}), confidence=0.29629629629629634, lift=3.1084175084175087)]),\n",
       " RelationRecord(items=frozenset({'Green Lantern', 'nan', 'Red Sparrow'}), support=0.005732568990801226, ordered_statistics=[OrderedStatistic(items_base=frozenset({'Red Sparrow'}), items_add=frozenset({'Green Lantern', 'nan'}), confidence=0.3006993006993007, lift=3.790832696715049), OrderedStatistic(items_base=frozenset({'Red Sparrow', 'nan'}), items_add=frozenset({'Green Lantern'}), confidence=0.3006993006993007, lift=3.790832696715049)]),\n",
       " RelationRecord(items=frozenset({'Star Wars', 'Green Lantern', 'nan'}), support=0.005865884548726837, ordered_statistics=[OrderedStatistic(items_base=frozenset({'Star Wars'}), items_add=frozenset({'Green Lantern', 'nan'}), confidence=0.3728813559322034, lift=4.700811850163794), OrderedStatistic(items_base=frozenset({'Star Wars', 'nan'}), items_add=frozenset({'Green Lantern'}), confidence=0.3728813559322034, lift=4.700811850163794)]),\n",
       " RelationRecord(items=frozenset({'Intern', 'Tomb Rider', 'Jumanji'}), support=0.008665511265164644, ordered_statistics=[OrderedStatistic(items_base=frozenset({'Intern', 'Tomb Rider'}), items_add=frozenset({'Jumanji'}), confidence=0.31100478468899523, lift=3.165328208890303)]),\n",
       " RelationRecord(items=frozenset({'Intern', 'Ninja Turtles', 'The Revenant'}), support=0.007199040127982935, ordered_statistics=[OrderedStatistic(items_base=frozenset({'Ninja Turtles', 'The Revenant'}), items_add=frozenset({'Intern'}), confidence=0.30508474576271183, lift=3.200616332819722)]),\n",
       " RelationRecord(items=frozenset({'Intern', 'Tomb Rider', 'Spiderman 3'}), support=0.005732568990801226, ordered_statistics=[OrderedStatistic(items_base=frozenset({'Intern', 'Tomb Rider'}), items_add=frozenset({'Spiderman 3'}), confidence=0.20574162679425836, lift=3.1240241752707125)]),\n",
       " RelationRecord(items=frozenset({'Intern', 'Tomb Rider', 'The Revenant'}), support=0.005999200106652446, ordered_statistics=[OrderedStatistic(items_base=frozenset({'Intern', 'Tomb Rider'}), items_add=frozenset({'The Revenant'}), confidence=0.21531100478468898, lift=3.0131489680782684)]),\n",
       " RelationRecord(items=frozenset({'Intern', 'Tomb Rider', 'World War Z'}), support=0.006665777896280496, ordered_statistics=[OrderedStatistic(items_base=frozenset({'Intern', 'Tomb Rider'}), items_add=frozenset({'World War Z'}), confidence=0.23923444976076558, lift=3.4980460188216425), OrderedStatistic(items_base=frozenset({'Tomb Rider', 'World War Z'}), items_add=frozenset({'Intern'}), confidence=0.3184713375796179, lift=3.341053850607991)]),\n",
       " RelationRecord(items=frozenset({'Tomb Rider', 'Iron Man', 'Jumanji'}), support=0.005332622317024397, ordered_statistics=[OrderedStatistic(items_base=frozenset({'Tomb Rider', 'Iron Man'}), items_add=frozenset({'Jumanji'}), confidence=0.3225806451612903, lift=3.283144395325426)]),\n",
       " RelationRecord(items=frozenset({'Ninja Turtles', 'Kung Fu Panda', 'Jumanji'}), support=0.006665777896280496, ordered_statistics=[OrderedStatistic(items_base=frozenset({'Ninja Turtles', 'Kung Fu Panda'}), items_add=frozenset({'Jumanji'}), confidence=0.39062500000000006, lift=3.975682666214383)]),\n",
       " RelationRecord(items=frozenset({'Tomb Rider', 'Kung Fu Panda', 'Jumanji'}), support=0.006399146780429276, ordered_statistics=[OrderedStatistic(items_base=frozenset({'Tomb Rider', 'Kung Fu Panda'}), items_add=frozenset({'Jumanji'}), confidence=0.3934426229508197, lift=4.004359721511667)]),\n",
       " RelationRecord(items=frozenset({'nan', 'Kung Fu Panda', 'Jumanji'}), support=0.015997866951073192, ordered_statistics=[OrderedStatistic(items_base=frozenset({'Kung Fu Panda'}), items_add=frozenset({'nan', 'Jumanji'}), confidence=0.3234501347708895, lift=3.2919938411349285), OrderedStatistic(items_base=frozenset({'nan', 'Kung Fu Panda'}), items_add=frozenset({'Jumanji'}), confidence=0.3234501347708895, lift=3.2919938411349285)]),\n",
       " RelationRecord(items=frozenset({'Tomb Rider', 'The Revenant', 'Jumanji'}), support=0.005999200106652446, ordered_statistics=[OrderedStatistic(items_base=frozenset({'The Revenant', 'Jumanji'}), items_add=frozenset({'Tomb Rider'}), confidence=0.5232558139534884, lift=3.005315360233627)]),\n",
       " RelationRecord(items=frozenset({'Wonder Woman', 'nan', 'Jumanji'}), support=0.005332622317024397, ordered_statistics=[OrderedStatistic(items_base=frozenset({'Wonder Woman'}), items_add=frozenset({'nan', 'Jumanji'}), confidence=0.3773584905660377, lift=3.840659481324083), OrderedStatistic(items_base=frozenset({'Wonder Woman', 'nan'}), items_add=frozenset({'Jumanji'}), confidence=0.3773584905660377, lift=3.840659481324083)]),\n",
       " RelationRecord(items=frozenset({'Tomb Rider', 'Spiderman 3', 'Moana'}), support=0.007199040127982935, ordered_statistics=[OrderedStatistic(items_base=frozenset({'Tomb Rider', 'Moana'}), items_add=frozenset({'Spiderman 3'}), confidence=0.20300751879699247, lift=3.0825089038385434)]),\n",
       " RelationRecord(items=frozenset({'Thor', 'Ninja Turtles', 'Spiderman 3'}), support=0.005199306759098787, ordered_statistics=[OrderedStatistic(items_base=frozenset({'Thor', 'Ninja Turtles'}), items_add=frozenset({'Spiderman 3'}), confidence=0.22543352601156072, lift=3.4230301186492245)]),\n",
       " RelationRecord(items=frozenset({'Spotlight', 'Tomb Rider', 'Spiderman 3'}), support=0.005065991201173177, ordered_statistics=[OrderedStatistic(items_base=frozenset({'Spotlight', 'Tomb Rider'}), items_add=frozenset({'Spiderman 3'}), confidence=0.20105820105820105, lift=3.0529100529100526)]),\n",
       " RelationRecord(items=frozenset({'The Spy Who Dumped Me', 'nan', 'Spiderman 3'}), support=0.007998933475536596, ordered_statistics=[OrderedStatistic(items_base=frozenset({'The Spy Who Dumped Me'}), items_add=frozenset({'nan', 'Spiderman 3'}), confidence=0.2714932126696833, lift=4.13077198425009), OrderedStatistic(items_base=frozenset({'The Spy Who Dumped Me', 'nan'}), items_add=frozenset({'Spiderman 3'}), confidence=0.2714932126696833, lift=4.122410097642296)]),\n",
       " RelationRecord(items=frozenset({'Star Wars', 'The Revenant', 'nan'}), support=0.005065991201173177, ordered_statistics=[OrderedStatistic(items_base=frozenset({'Star Wars'}), items_add=frozenset({'The Revenant', 'nan'}), confidence=0.3220338983050847, lift=4.515095833993347), OrderedStatistic(items_base=frozenset({'Star Wars', 'nan'}), items_add=frozenset({'The Revenant'}), confidence=0.3220338983050847, lift=4.506672147735896)]),\n",
       " RelationRecord(items=frozenset({'Coco', 'The Revenant', 'nan', 'Intern'}), support=0.005332622317024397, ordered_statistics=[OrderedStatistic(items_base=frozenset({'Coco', 'Intern'}), items_add=frozenset({'The Revenant', 'nan'}), confidence=0.23255813953488375, lift=3.260595522712454), OrderedStatistic(items_base=frozenset({'Coco', 'The Revenant'}), items_add=frozenset({'Intern', 'nan'}), confidence=0.29629629629629634, lift=3.1084175084175087), OrderedStatistic(items_base=frozenset({'Coco', 'nan', 'Intern'}), items_add=frozenset({'The Revenant'}), confidence=0.23255813953488375, lift=3.2545123221103784), OrderedStatistic(items_base=frozenset({'Coco', 'The Revenant', 'nan'}), items_add=frozenset({'Intern'}), confidence=0.29629629629629634, lift=3.1084175084175087)]),\n",
       " RelationRecord(items=frozenset({'Intern', 'Tomb Rider', 'nan', 'Jumanji'}), support=0.008665511265164644, ordered_statistics=[OrderedStatistic(items_base=frozenset({'Intern', 'Tomb Rider'}), items_add=frozenset({'nan', 'Jumanji'}), confidence=0.31100478468899523, lift=3.165328208890303), OrderedStatistic(items_base=frozenset({'Intern', 'Tomb Rider', 'nan'}), items_add=frozenset({'Jumanji'}), confidence=0.31100478468899523, lift=3.165328208890303)]),\n",
       " RelationRecord(items=frozenset({'Intern', 'Ninja Turtles', 'nan', 'The Revenant'}), support=0.007199040127982935, ordered_statistics=[OrderedStatistic(items_base=frozenset({'Ninja Turtles', 'The Revenant'}), items_add=frozenset({'Intern', 'nan'}), confidence=0.30508474576271183, lift=3.200616332819722), OrderedStatistic(items_base=frozenset({'Ninja Turtles', 'nan', 'The Revenant'}), items_add=frozenset({'Intern'}), confidence=0.3068181818181818, lift=3.218801652892562)]),\n",
       " RelationRecord(items=frozenset({'Intern', 'Tomb Rider', 'nan', 'Spiderman 3'}), support=0.005732568990801226, ordered_statistics=[OrderedStatistic(items_base=frozenset({'Intern', 'Tomb Rider'}), items_add=frozenset({'nan', 'Spiderman 3'}), confidence=0.20574162679425836, lift=3.1303609383037156), OrderedStatistic(items_base=frozenset({'Intern', 'Tomb Rider', 'nan'}), items_add=frozenset({'Spiderman 3'}), confidence=0.20574162679425836, lift=3.1240241752707125)]),\n",
       " RelationRecord(items=frozenset({'Intern', 'Tomb Rider', 'The Revenant', 'nan'}), support=0.005999200106652446, ordered_statistics=[OrderedStatistic(items_base=frozenset({'Intern', 'Tomb Rider'}), items_add=frozenset({'The Revenant', 'nan'}), confidence=0.21531100478468898, lift=3.0187810222242093), OrderedStatistic(items_base=frozenset({'Intern', 'Tomb Rider', 'nan'}), items_add=frozenset({'The Revenant'}), confidence=0.21531100478468898, lift=3.0131489680782684)]),\n",
       " RelationRecord(items=frozenset({'Intern', 'Tomb Rider', 'nan', 'World War Z'}), support=0.006665777896280496, ordered_statistics=[OrderedStatistic(items_base=frozenset({'Intern', 'Tomb Rider'}), items_add=frozenset({'nan', 'World War Z'}), confidence=0.23923444976076558, lift=3.4980460188216425), OrderedStatistic(items_base=frozenset({'Tomb Rider', 'World War Z'}), items_add=frozenset({'Intern', 'nan'}), confidence=0.3184713375796179, lift=3.341053850607991), OrderedStatistic(items_base=frozenset({'Intern', 'Tomb Rider', 'nan'}), items_add=frozenset({'World War Z'}), confidence=0.23923444976076558, lift=3.4980460188216425), OrderedStatistic(items_base=frozenset({'Tomb Rider', 'nan', 'World War Z'}), items_add=frozenset({'Intern'}), confidence=0.3184713375796179, lift=3.341053850607991)]),\n",
       " RelationRecord(items=frozenset({'Tomb Rider', 'Iron Man', 'nan', 'Jumanji'}), support=0.005332622317024397, ordered_statistics=[OrderedStatistic(items_base=frozenset({'Tomb Rider', 'Iron Man'}), items_add=frozenset({'nan', 'Jumanji'}), confidence=0.3225806451612903, lift=3.283144395325426), OrderedStatistic(items_base=frozenset({'Tomb Rider', 'Iron Man', 'nan'}), items_add=frozenset({'Jumanji'}), confidence=0.3225806451612903, lift=3.283144395325426)]),\n",
       " RelationRecord(items=frozenset({'nan', 'Ninja Turtles', 'Kung Fu Panda', 'Jumanji'}), support=0.006665777896280496, ordered_statistics=[OrderedStatistic(items_base=frozenset({'Ninja Turtles', 'Kung Fu Panda'}), items_add=frozenset({'nan', 'Jumanji'}), confidence=0.39062500000000006, lift=3.975682666214383), OrderedStatistic(items_base=frozenset({'nan', 'Ninja Turtles', 'Kung Fu Panda'}), items_add=frozenset({'Jumanji'}), confidence=0.39062500000000006, lift=3.975682666214383)]),\n",
       " RelationRecord(items=frozenset({'nan', 'Tomb Rider', 'Kung Fu Panda', 'Jumanji'}), support=0.006399146780429276, ordered_statistics=[OrderedStatistic(items_base=frozenset({'Tomb Rider', 'Kung Fu Panda'}), items_add=frozenset({'nan', 'Jumanji'}), confidence=0.3934426229508197, lift=4.004359721511667), OrderedStatistic(items_base=frozenset({'nan', 'Tomb Rider', 'Kung Fu Panda'}), items_add=frozenset({'Jumanji'}), confidence=0.3934426229508197, lift=4.004359721511667)]),\n",
       " RelationRecord(items=frozenset({'Tomb Rider', 'The Revenant', 'nan', 'Jumanji'}), support=0.005999200106652446, ordered_statistics=[OrderedStatistic(items_base=frozenset({'The Revenant', 'Jumanji'}), items_add=frozenset({'Tomb Rider', 'nan'}), confidence=0.5232558139534884, lift=3.005315360233627), OrderedStatistic(items_base=frozenset({'The Revenant', 'nan', 'Jumanji'}), items_add=frozenset({'Tomb Rider'}), confidence=0.5232558139534884, lift=3.005315360233627)]),\n",
       " RelationRecord(items=frozenset({'Tomb Rider', 'nan', 'Spiderman 3', 'Moana'}), support=0.007199040127982935, ordered_statistics=[OrderedStatistic(items_base=frozenset({'Tomb Rider', 'Moana'}), items_add=frozenset({'nan', 'Spiderman 3'}), confidence=0.20300751879699247, lift=3.088761457396025), OrderedStatistic(items_base=frozenset({'Tomb Rider', 'nan', 'Moana'}), items_add=frozenset({'Spiderman 3'}), confidence=0.20300751879699247, lift=3.0825089038385434)]),\n",
       " RelationRecord(items=frozenset({'Thor', 'Ninja Turtles', 'nan', 'Spiderman 3'}), support=0.005199306759098787, ordered_statistics=[OrderedStatistic(items_base=frozenset({'Thor', 'Ninja Turtles'}), items_add=frozenset({'nan', 'Spiderman 3'}), confidence=0.22543352601156072, lift=3.429973384609973), OrderedStatistic(items_base=frozenset({'Thor', 'Ninja Turtles', 'nan'}), items_add=frozenset({'Spiderman 3'}), confidence=0.22543352601156072, lift=3.4230301186492245)]),\n",
       " RelationRecord(items=frozenset({'Spotlight', 'Tomb Rider', 'nan', 'Spiderman 3'}), support=0.005065991201173177, ordered_statistics=[OrderedStatistic(items_base=frozenset({'Spotlight', 'Tomb Rider'}), items_add=frozenset({'nan', 'Spiderman 3'}), confidence=0.20105820105820105, lift=3.0591025682303568), OrderedStatistic(items_base=frozenset({'Spotlight', 'Tomb Rider', 'nan'}), items_add=frozenset({'Spiderman 3'}), confidence=0.20105820105820105, lift=3.0529100529100526)])]"
      ]
     },
     "execution_count": 41,
     "metadata": {},
     "output_type": "execute_result"
    }
   ],
   "source": [
    "association_rules = apriori(records, min_support=0.0050, min_confidence=0.2, min_lift=3, min_length=2)\n",
    "association_results = list(association_rules)"
   ]
  },
  {
   "cell_type": "markdown",
   "metadata": {},
   "source": [
    "* how many association rules did we obtained ?"
   ]
  },
  {
   "cell_type": "code",
   "execution_count": 30,
   "metadata": {},
   "outputs": [
    {
     "name": "stdout",
     "output_type": "stream",
     "text": [
      "38\n"
     ]
    }
   ],
   "source": [
    "print(len(association_results))"
   ]
  },
  {
   "cell_type": "markdown",
   "metadata": {},
   "source": [
    "* print the first association rule"
   ]
  },
  {
   "cell_type": "code",
   "execution_count": 33,
   "metadata": {},
   "outputs": [
    {
     "name": "stdout",
     "output_type": "stream",
     "text": [
      "RelationRecord(items=frozenset({'Green Lantern', 'Red Sparrow'}), support=0.005732568990801226, ordered_statistics=[OrderedStatistic(items_base=frozenset({'Red Sparrow'}), items_add=frozenset({'Green Lantern'}), confidence=0.3006993006993007, lift=3.790832696715049)])\n"
     ]
    }
   ],
   "source": [
    "print(association_results[0])"
   ]
  },
  {
   "cell_type": "markdown",
   "metadata": {},
   "source": [
    "* convert association rules to DataFrame \n",
    "    * use these columns: title_1, title_2, support, confidence, lift"
   ]
  },
  {
   "cell_type": "code",
   "execution_count": 45,
   "metadata": {},
   "outputs": [
    {
     "data": {
      "text/html": [
       "<div>\n",
       "<style scoped>\n",
       "    .dataframe tbody tr th:only-of-type {\n",
       "        vertical-align: middle;\n",
       "    }\n",
       "\n",
       "    .dataframe tbody tr th {\n",
       "        vertical-align: top;\n",
       "    }\n",
       "\n",
       "    .dataframe thead th {\n",
       "        text-align: right;\n",
       "    }\n",
       "</style>\n",
       "<table border=\"1\" class=\"dataframe\">\n",
       "  <thead>\n",
       "    <tr style=\"text-align: right;\">\n",
       "      <th></th>\n",
       "      <th>title_1</th>\n",
       "      <th>title_2</th>\n",
       "      <th>support</th>\n",
       "      <th>confidence</th>\n",
       "      <th>lift</th>\n",
       "    </tr>\n",
       "  </thead>\n",
       "  <tbody>\n",
       "  </tbody>\n",
       "</table>\n",
       "</div>"
      ],
      "text/plain": [
       "Empty DataFrame\n",
       "Columns: [title_1, title_2, support, confidence, lift]\n",
       "Index: []"
      ]
     },
     "execution_count": 45,
     "metadata": {},
     "output_type": "execute_result"
    }
   ],
   "source": [
    "df_association_results = pd.DataFrame(columns=['title_1', 'title_2','support','confidence','lift'])\n",
    "df_association_results"
   ]
  },
  {
   "cell_type": "code",
   "execution_count": 61,
   "metadata": {
    "ExecuteTime": {
     "end_time": "2020-04-30T11:42:41.014360Z",
     "start_time": "2020-04-30T11:42:40.984827Z"
    },
    "scrolled": true
   },
   "outputs": [],
   "source": [
    "for i in association_results:\n",
    "    pair=i[0]\n",
    "    item=[x for x in pair]\n",
    "    movie1=item[0]\n",
    "    movie_2=item[1]\n",
    "    support=str(i[1])\n",
    "    confidence=str(i[2][0][2])\n",
    "    lift=str(i[2][0][3])\n",
    "    df_association_results.loc[0] = [movie1, movie_2, support, confidence, lift]"
   ]
  },
  {
   "cell_type": "code",
   "execution_count": 62,
   "metadata": {},
   "outputs": [
    {
     "data": {
      "text/html": [
       "<div>\n",
       "<style scoped>\n",
       "    .dataframe tbody tr th:only-of-type {\n",
       "        vertical-align: middle;\n",
       "    }\n",
       "\n",
       "    .dataframe tbody tr th {\n",
       "        vertical-align: top;\n",
       "    }\n",
       "\n",
       "    .dataframe thead th {\n",
       "        text-align: right;\n",
       "    }\n",
       "</style>\n",
       "<table border=\"1\" class=\"dataframe\">\n",
       "  <thead>\n",
       "    <tr style=\"text-align: right;\">\n",
       "      <th></th>\n",
       "      <th>title_1</th>\n",
       "      <th>title_2</th>\n",
       "      <th>support</th>\n",
       "      <th>confidence</th>\n",
       "      <th>lift</th>\n",
       "    </tr>\n",
       "  </thead>\n",
       "  <tbody>\n",
       "    <tr>\n",
       "      <th>0</th>\n",
       "      <td>Spotlight</td>\n",
       "      <td>Tomb Rider</td>\n",
       "      <td>0.005065991201173177</td>\n",
       "      <td>0.20105820105820105</td>\n",
       "      <td>3.0591025682303568</td>\n",
       "    </tr>\n",
       "    <tr>\n",
       "      <th>1</th>\n",
       "      <td>Green Lantern</td>\n",
       "      <td>NaN</td>\n",
       "      <td>NaN</td>\n",
       "      <td>NaN</td>\n",
       "      <td>NaN</td>\n",
       "    </tr>\n",
       "    <tr>\n",
       "      <th>2</th>\n",
       "      <td>Star Wars</td>\n",
       "      <td>NaN</td>\n",
       "      <td>NaN</td>\n",
       "      <td>NaN</td>\n",
       "      <td>NaN</td>\n",
       "    </tr>\n",
       "    <tr>\n",
       "      <th>3</th>\n",
       "      <td>Kung Fu Panda</td>\n",
       "      <td>NaN</td>\n",
       "      <td>NaN</td>\n",
       "      <td>NaN</td>\n",
       "      <td>NaN</td>\n",
       "    </tr>\n",
       "    <tr>\n",
       "      <th>4</th>\n",
       "      <td>Wonder Woman</td>\n",
       "      <td>NaN</td>\n",
       "      <td>NaN</td>\n",
       "      <td>NaN</td>\n",
       "      <td>NaN</td>\n",
       "    </tr>\n",
       "    <tr>\n",
       "      <th>...</th>\n",
       "      <td>...</td>\n",
       "      <td>...</td>\n",
       "      <td>...</td>\n",
       "      <td>...</td>\n",
       "      <td>...</td>\n",
       "    </tr>\n",
       "    <tr>\n",
       "      <th>110</th>\n",
       "      <td>nan</td>\n",
       "      <td>Tomb Rider</td>\n",
       "      <td>0.006399146780429276</td>\n",
       "      <td>0.3934426229508197</td>\n",
       "      <td>4.004359721511667</td>\n",
       "    </tr>\n",
       "    <tr>\n",
       "      <th>111</th>\n",
       "      <td>Tomb Rider</td>\n",
       "      <td>The Revenant</td>\n",
       "      <td>0.005999200106652446</td>\n",
       "      <td>0.5232558139534884</td>\n",
       "      <td>3.005315360233627</td>\n",
       "    </tr>\n",
       "    <tr>\n",
       "      <th>112</th>\n",
       "      <td>Tomb Rider</td>\n",
       "      <td>nan</td>\n",
       "      <td>0.007199040127982935</td>\n",
       "      <td>0.20300751879699247</td>\n",
       "      <td>3.088761457396025</td>\n",
       "    </tr>\n",
       "    <tr>\n",
       "      <th>113</th>\n",
       "      <td>Thor</td>\n",
       "      <td>Ninja Turtles</td>\n",
       "      <td>0.005199306759098787</td>\n",
       "      <td>0.22543352601156072</td>\n",
       "      <td>3.429973384609973</td>\n",
       "    </tr>\n",
       "    <tr>\n",
       "      <th>114</th>\n",
       "      <td>Spotlight</td>\n",
       "      <td>Tomb Rider</td>\n",
       "      <td>0.005065991201173177</td>\n",
       "      <td>0.20105820105820105</td>\n",
       "      <td>3.0591025682303568</td>\n",
       "    </tr>\n",
       "  </tbody>\n",
       "</table>\n",
       "<p>115 rows × 5 columns</p>\n",
       "</div>"
      ],
      "text/plain": [
       "           title_1        title_2               support           confidence  \\\n",
       "0        Spotlight     Tomb Rider  0.005065991201173177  0.20105820105820105   \n",
       "1    Green Lantern            NaN                   NaN                  NaN   \n",
       "2        Star Wars            NaN                   NaN                  NaN   \n",
       "3    Kung Fu Panda            NaN                   NaN                  NaN   \n",
       "4     Wonder Woman            NaN                   NaN                  NaN   \n",
       "..             ...            ...                   ...                  ...   \n",
       "110            nan     Tomb Rider  0.006399146780429276   0.3934426229508197   \n",
       "111     Tomb Rider   The Revenant  0.005999200106652446   0.5232558139534884   \n",
       "112     Tomb Rider            nan  0.007199040127982935  0.20300751879699247   \n",
       "113           Thor  Ninja Turtles  0.005199306759098787  0.22543352601156072   \n",
       "114      Spotlight     Tomb Rider  0.005065991201173177  0.20105820105820105   \n",
       "\n",
       "                   lift  \n",
       "0    3.0591025682303568  \n",
       "1                   NaN  \n",
       "2                   NaN  \n",
       "3                   NaN  \n",
       "4                   NaN  \n",
       "..                  ...  \n",
       "110   4.004359721511667  \n",
       "111   3.005315360233627  \n",
       "112   3.088761457396025  \n",
       "113   3.429973384609973  \n",
       "114  3.0591025682303568  \n",
       "\n",
       "[115 rows x 5 columns]"
      ]
     },
     "execution_count": 62,
     "metadata": {},
     "output_type": "execute_result"
    }
   ],
   "source": [
    "df_association_results"
   ]
  }
 ],
 "metadata": {
  "kernelspec": {
   "display_name": "Python 3",
   "language": "python",
   "name": "python3"
  },
  "language_info": {
   "codemirror_mode": {
    "name": "ipython",
    "version": 3
   },
   "file_extension": ".py",
   "mimetype": "text/x-python",
   "name": "python",
   "nbconvert_exporter": "python",
   "pygments_lexer": "ipython3",
   "version": "3.8.8"
  },
  "toc": {
   "base_numbering": 1,
   "nav_menu": {},
   "number_sections": true,
   "sideBar": true,
   "skip_h1_title": false,
   "title_cell": "Table of Contents",
   "title_sidebar": "Contents",
   "toc_cell": false,
   "toc_position": {},
   "toc_section_display": true,
   "toc_window_display": false
  },
  "varInspector": {
   "cols": {
    "lenName": 16,
    "lenType": 16,
    "lenVar": 40
   },
   "kernels_config": {
    "python": {
     "delete_cmd_postfix": "",
     "delete_cmd_prefix": "del ",
     "library": "var_list.py",
     "varRefreshCmd": "print(var_dic_list())"
    },
    "r": {
     "delete_cmd_postfix": ") ",
     "delete_cmd_prefix": "rm(",
     "library": "var_list.r",
     "varRefreshCmd": "cat(var_dic_list()) "
    }
   },
   "types_to_exclude": [
    "module",
    "function",
    "builtin_function_or_method",
    "instance",
    "_Feature"
   ],
   "window_display": false
  }
 },
 "nbformat": 4,
 "nbformat_minor": 4
}
